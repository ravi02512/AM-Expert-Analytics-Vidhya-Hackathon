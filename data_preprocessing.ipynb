{
  "nbformat": 4,
  "nbformat_minor": 0,
  "metadata": {
    "colab": {
      "name": "data preprocessing.ipynb",
      "provenance": [],
      "include_colab_link": true
    },
    "kernelspec": {
      "name": "python3",
      "display_name": "Python 3"
    }
  },
  "cells": [
    {
      "cell_type": "markdown",
      "metadata": {
        "id": "view-in-github",
        "colab_type": "text"
      },
      "source": [
        "<a href=\"https://colab.research.google.com/github/ravi02512/AM-Expert-Analytics-Vidhya-Hackathon/blob/master/data_preprocessing.ipynb\" target=\"_parent\"><img src=\"https://colab.research.google.com/assets/colab-badge.svg\" alt=\"Open In Colab\"/></a>"
      ]
    },
    {
      "cell_type": "code",
      "metadata": {
        "id": "MI7OX9nOYqv0",
        "colab_type": "code",
        "outputId": "c3369573-f53d-49ec-9669-23958c95beba",
        "colab": {
          "base_uri": "https://localhost:8080/",
          "height": 34
        }
      },
      "source": [
        "from google.colab import drive\n",
        "drive.mount('/content/gdrive/')"
      ],
      "execution_count": 0,
      "outputs": [
        {
          "output_type": "stream",
          "text": [
            "Drive already mounted at /content/gdrive/; to attempt to forcibly remount, call drive.mount(\"/content/gdrive/\", force_remount=True).\n"
          ],
          "name": "stdout"
        }
      ]
    },
    {
      "cell_type": "code",
      "metadata": {
        "id": "1uQvLP61ZI5l",
        "colab_type": "code",
        "colab": {}
      },
      "source": [
        "# One-hot encoding for categorical columns with get_dummies\n",
        "def one_hot_encoder(df, nan_as_category = True):\n",
        "    original_columns = list(df.columns)\n",
        "    categorical_columns = [col for col in df.columns if df[col].dtype == 'object']\n",
        "    df = pd.get_dummies(df, columns= categorical_columns, dummy_na= nan_as_category)\n",
        "    new_columns = [c for c in df.columns if c not in original_columns]\n",
        "    return df, new_columns"
      ],
      "execution_count": 0,
      "outputs": []
    },
    {
      "cell_type": "code",
      "metadata": {
        "id": "Y8ArNrYuqZL3",
        "colab_type": "code",
        "colab": {}
      },
      "source": [
        "import numpy as np \n",
        "import pandas as pd"
      ],
      "execution_count": 0,
      "outputs": []
    },
    {
      "cell_type": "code",
      "metadata": {
        "id": "O-txRWxBo2Vy",
        "colab_type": "code",
        "outputId": "f9e52c99-68da-40e7-9f04-6660e41f1c36",
        "colab": {
          "base_uri": "https://localhost:8080/",
          "height": 206
        }
      },
      "source": [
        "customer_demo=pd.read_csv('/content/gdrive/My Drive/train_AUpWtIz/train_AUpWtIz/customer_demographics.csv')\n",
        "customer_demo.head()"
      ],
      "execution_count": 0,
      "outputs": [
        {
          "output_type": "execute_result",
          "data": {
            "text/html": [
              "<div>\n",
              "<style scoped>\n",
              "    .dataframe tbody tr th:only-of-type {\n",
              "        vertical-align: middle;\n",
              "    }\n",
              "\n",
              "    .dataframe tbody tr th {\n",
              "        vertical-align: top;\n",
              "    }\n",
              "\n",
              "    .dataframe thead th {\n",
              "        text-align: right;\n",
              "    }\n",
              "</style>\n",
              "<table border=\"1\" class=\"dataframe\">\n",
              "  <thead>\n",
              "    <tr style=\"text-align: right;\">\n",
              "      <th></th>\n",
              "      <th>customer_id</th>\n",
              "      <th>age_range</th>\n",
              "      <th>marital_status</th>\n",
              "      <th>rented</th>\n",
              "      <th>family_size</th>\n",
              "      <th>no_of_children</th>\n",
              "      <th>income_bracket</th>\n",
              "    </tr>\n",
              "  </thead>\n",
              "  <tbody>\n",
              "    <tr>\n",
              "      <th>0</th>\n",
              "      <td>1</td>\n",
              "      <td>70+</td>\n",
              "      <td>Married</td>\n",
              "      <td>0</td>\n",
              "      <td>2</td>\n",
              "      <td>NaN</td>\n",
              "      <td>4</td>\n",
              "    </tr>\n",
              "    <tr>\n",
              "      <th>1</th>\n",
              "      <td>6</td>\n",
              "      <td>46-55</td>\n",
              "      <td>Married</td>\n",
              "      <td>0</td>\n",
              "      <td>2</td>\n",
              "      <td>NaN</td>\n",
              "      <td>5</td>\n",
              "    </tr>\n",
              "    <tr>\n",
              "      <th>2</th>\n",
              "      <td>7</td>\n",
              "      <td>26-35</td>\n",
              "      <td>NaN</td>\n",
              "      <td>0</td>\n",
              "      <td>3</td>\n",
              "      <td>1</td>\n",
              "      <td>3</td>\n",
              "    </tr>\n",
              "    <tr>\n",
              "      <th>3</th>\n",
              "      <td>8</td>\n",
              "      <td>26-35</td>\n",
              "      <td>NaN</td>\n",
              "      <td>0</td>\n",
              "      <td>4</td>\n",
              "      <td>2</td>\n",
              "      <td>6</td>\n",
              "    </tr>\n",
              "    <tr>\n",
              "      <th>4</th>\n",
              "      <td>10</td>\n",
              "      <td>46-55</td>\n",
              "      <td>Single</td>\n",
              "      <td>0</td>\n",
              "      <td>1</td>\n",
              "      <td>NaN</td>\n",
              "      <td>5</td>\n",
              "    </tr>\n",
              "  </tbody>\n",
              "</table>\n",
              "</div>"
            ],
            "text/plain": [
              "   customer_id age_range  ... no_of_children  income_bracket\n",
              "0            1       70+  ...            NaN               4\n",
              "1            6     46-55  ...            NaN               5\n",
              "2            7     26-35  ...              1               3\n",
              "3            8     26-35  ...              2               6\n",
              "4           10     46-55  ...            NaN               5\n",
              "\n",
              "[5 rows x 7 columns]"
            ]
          },
          "metadata": {
            "tags": []
          },
          "execution_count": 6
        }
      ]
    },
    {
      "cell_type": "code",
      "metadata": {
        "id": "pAORrAPBcsF-",
        "colab_type": "code",
        "outputId": "abf1ac37-c1d1-4fd6-db34-325606f8b57c",
        "colab": {
          "base_uri": "https://localhost:8080/",
          "height": 139
        }
      },
      "source": [
        "for col in customer_demo.columns:\n",
        "  print('{} colum has {} uniuqe values'.format(col,customer_demo[col].nunique()))"
      ],
      "execution_count": 0,
      "outputs": [
        {
          "output_type": "stream",
          "text": [
            "customer_id colum has 760 uniuqe values\n",
            "age_range colum has 6 uniuqe values\n",
            "marital_status colum has 2 uniuqe values\n",
            "rented colum has 2 uniuqe values\n",
            "family_size colum has 5 uniuqe values\n",
            "no_of_children colum has 3 uniuqe values\n",
            "income_bracket colum has 12 uniuqe values\n"
          ],
          "name": "stdout"
        }
      ]
    },
    {
      "cell_type": "code",
      "metadata": {
        "id": "HSbW_CHtrRjM",
        "colab_type": "code",
        "colab": {}
      },
      "source": [
        "age=[]\n",
        "for i in customer_demo.age_range:\n",
        "  if i=='70+':\n",
        "    first=70\n",
        "    second=90\n",
        "    age.append(np.random.randint(first, second))\n",
        "  else:\n",
        "    first=i[:2]\n",
        "    second=i[3:]\n",
        "    age.append(np.random.randint(first, second))\n",
        "    \n",
        "    \n",
        "customer_demo['age']=age"
      ],
      "execution_count": 0,
      "outputs": []
    },
    {
      "cell_type": "code",
      "metadata": {
        "id": "riHT2UZ3pnD7",
        "colab_type": "code",
        "colab": {}
      },
      "source": [
        "marital=[]\n",
        "for c in range(len(customer_demo)):\n",
        "    if customer_demo['marital_status'].fillna(0)[c]!=0:\n",
        "      marital.append(customer_demo['marital_status'][c])\n",
        "      \n",
        "    else:\n",
        "      if customer_demo['family_size'][c]!='1':\n",
        "        marital.append('Married')\n",
        "        \n",
        "      else:\n",
        "        marital.append('Single')\n",
        "customer_demo['marital_status']=marital"
      ],
      "execution_count": 0,
      "outputs": []
    },
    {
      "cell_type": "code",
      "metadata": {
        "id": "1R6xCbBxJ7eR",
        "colab_type": "code",
        "colab": {}
      },
      "source": [
        "no_children=[]\n",
        "for c in range(len(customer_demo)):\n",
        "  if customer_demo['family_size'][c]!='1':\n",
        "    if type(customer_demo['no_of_children'][c])!=float:\n",
        "      no_children.append(customer_demo['no_of_children'][c])\n",
        "      \n",
        "    else:\n",
        "      if customer_demo['marital_status'][c]=='Married':\n",
        "        \n",
        "        try:\n",
        "          a=int(customer_demo['family_size'][c])\n",
        "          no_children.append(str(a-2))\n",
        "          \n",
        "        except:\n",
        "          a=int(customer_demo['family_size'][c][:1])\n",
        "          no_children.append(str(a-2)+'+')\n",
        "      \n",
        "      elif customer_demo['marital_status'][c]=='Single':\n",
        "        \n",
        "        try:\n",
        "          a=int(customer_demo['family_size'][c])\n",
        "          no_children.append(str(a-1))\n",
        "          \n",
        "        except:\n",
        "          a=int(customer_demo['family_size'][c][:1])\n",
        "          no_children.append(str(a-1)+'+')\n",
        "  else:\n",
        "    if type(customer_demo['no_of_children'][c])!=float:\n",
        "      no_children.append(customer_demo['no_of_children'][c])\n",
        "      \n",
        "    else:\n",
        "      no_children.append('0')\n",
        "    \n",
        "    \n",
        "customer_demo['no_of_children']=no_children \n",
        "    \n",
        "    \n",
        "    \n",
        "    \n",
        "  "
      ],
      "execution_count": 0,
      "outputs": []
    },
    {
      "cell_type": "code",
      "metadata": {
        "id": "VnET7gHxqqrx",
        "colab_type": "code",
        "outputId": "fc3d9bf1-75f0-40fb-badc-4a8e7e362041",
        "colab": {
          "base_uri": "https://localhost:8080/",
          "height": 156
        }
      },
      "source": [
        "for  col in customer_demo.columns:\n",
        "  print('unique value in {} is {}'.format(col, customer_demo[col].nunique()))"
      ],
      "execution_count": 0,
      "outputs": [
        {
          "output_type": "stream",
          "text": [
            "unique value in customer_id is 760\n",
            "unique value in age_range is 6\n",
            "unique value in marital_status is 2\n",
            "unique value in rented is 2\n",
            "unique value in family_size is 5\n",
            "unique value in no_of_children is 4\n",
            "unique value in income_bracket is 12\n",
            "unique value in age is 67\n"
          ],
          "name": "stdout"
        }
      ]
    },
    {
      "cell_type": "code",
      "metadata": {
        "id": "N6KAwubBty0Y",
        "colab_type": "code",
        "colab": {}
      },
      "source": [
        "customer_demo['rented']=customer_demo['rented'].astype('object')\n",
        "customer_demo['income_bracket']=customer_demo['income_bracket'].astype('object')"
      ],
      "execution_count": 0,
      "outputs": []
    },
    {
      "cell_type": "code",
      "metadata": {
        "id": "PXrwm54wZJEY",
        "colab_type": "code",
        "outputId": "459937b5-e479-4644-8879-6a0e8e52aebc",
        "colab": {
          "base_uri": "https://localhost:8080/",
          "height": 121
        }
      },
      "source": [
        "[col for col in customer_demo.columns if customer_demo[col].dtype=='object']\n"
      ],
      "execution_count": 0,
      "outputs": [
        {
          "output_type": "execute_result",
          "data": {
            "text/plain": [
              "['age_range',\n",
              " 'marital_status',\n",
              " 'rented',\n",
              " 'family_size',\n",
              " 'no_of_children',\n",
              " 'income_bracket']"
            ]
          },
          "metadata": {
            "tags": []
          },
          "execution_count": 38
        }
      ]
    },
    {
      "cell_type": "code",
      "metadata": {
        "id": "1U3AvheIZJHj",
        "colab_type": "code",
        "colab": {}
      },
      "source": [
        "import os \n",
        "os.chdir('/content/gdrive/My Drive')"
      ],
      "execution_count": 0,
      "outputs": []
    },
    {
      "cell_type": "code",
      "metadata": {
        "id": "whFMZBQSDAVC",
        "colab_type": "code",
        "outputId": "11acb54e-6a5e-429f-93a2-96f5afcd94ed",
        "colab": {
          "base_uri": "https://localhost:8080/",
          "height": 206
        }
      },
      "source": [
        "customer_trans=pd.read_csv('/content/gdrive/My Drive/train_AUpWtIz/train_AUpWtIz/customer_transaction_data.csv')\n",
        "customer_trans.head()\n"
      ],
      "execution_count": 0,
      "outputs": [
        {
          "output_type": "execute_result",
          "data": {
            "text/html": [
              "<div>\n",
              "<style scoped>\n",
              "    .dataframe tbody tr th:only-of-type {\n",
              "        vertical-align: middle;\n",
              "    }\n",
              "\n",
              "    .dataframe tbody tr th {\n",
              "        vertical-align: top;\n",
              "    }\n",
              "\n",
              "    .dataframe thead th {\n",
              "        text-align: right;\n",
              "    }\n",
              "</style>\n",
              "<table border=\"1\" class=\"dataframe\">\n",
              "  <thead>\n",
              "    <tr style=\"text-align: right;\">\n",
              "      <th></th>\n",
              "      <th>date</th>\n",
              "      <th>customer_id</th>\n",
              "      <th>item_id</th>\n",
              "      <th>quantity</th>\n",
              "      <th>selling_price</th>\n",
              "      <th>other_discount</th>\n",
              "      <th>coupon_discount</th>\n",
              "    </tr>\n",
              "  </thead>\n",
              "  <tbody>\n",
              "    <tr>\n",
              "      <th>0</th>\n",
              "      <td>2012-01-02</td>\n",
              "      <td>1501</td>\n",
              "      <td>26830</td>\n",
              "      <td>1</td>\n",
              "      <td>35.26</td>\n",
              "      <td>-10.69</td>\n",
              "      <td>0.0</td>\n",
              "    </tr>\n",
              "    <tr>\n",
              "      <th>1</th>\n",
              "      <td>2012-01-02</td>\n",
              "      <td>1501</td>\n",
              "      <td>54253</td>\n",
              "      <td>1</td>\n",
              "      <td>53.43</td>\n",
              "      <td>-13.89</td>\n",
              "      <td>0.0</td>\n",
              "    </tr>\n",
              "    <tr>\n",
              "      <th>2</th>\n",
              "      <td>2012-01-02</td>\n",
              "      <td>1501</td>\n",
              "      <td>31962</td>\n",
              "      <td>1</td>\n",
              "      <td>106.50</td>\n",
              "      <td>-14.25</td>\n",
              "      <td>0.0</td>\n",
              "    </tr>\n",
              "    <tr>\n",
              "      <th>3</th>\n",
              "      <td>2012-01-02</td>\n",
              "      <td>1501</td>\n",
              "      <td>33647</td>\n",
              "      <td>1</td>\n",
              "      <td>67.32</td>\n",
              "      <td>0.00</td>\n",
              "      <td>0.0</td>\n",
              "    </tr>\n",
              "    <tr>\n",
              "      <th>4</th>\n",
              "      <td>2012-01-02</td>\n",
              "      <td>1501</td>\n",
              "      <td>48199</td>\n",
              "      <td>1</td>\n",
              "      <td>71.24</td>\n",
              "      <td>-28.14</td>\n",
              "      <td>0.0</td>\n",
              "    </tr>\n",
              "  </tbody>\n",
              "</table>\n",
              "</div>"
            ],
            "text/plain": [
              "         date  customer_id  ...  other_discount  coupon_discount\n",
              "0  2012-01-02         1501  ...          -10.69              0.0\n",
              "1  2012-01-02         1501  ...          -13.89              0.0\n",
              "2  2012-01-02         1501  ...          -14.25              0.0\n",
              "3  2012-01-02         1501  ...            0.00              0.0\n",
              "4  2012-01-02         1501  ...          -28.14              0.0\n",
              "\n",
              "[5 rows x 7 columns]"
            ]
          },
          "metadata": {
            "tags": []
          },
          "execution_count": 42
        }
      ]
    },
    {
      "cell_type": "code",
      "metadata": {
        "id": "826uf4KwlPSy",
        "colab_type": "code",
        "colab": {}
      },
      "source": [
        "customer_trans['date']=pd.to_datetime(customer_trans['date'], format='%Y-%m-%d')"
      ],
      "execution_count": 0,
      "outputs": []
    },
    {
      "cell_type": "code",
      "metadata": {
        "id": "ziahmV7aufbA",
        "colab_type": "code",
        "outputId": "00d60793-eb04-4ec7-966b-cded4d90c8fa",
        "colab": {
          "base_uri": "https://localhost:8080/",
          "height": 69
        }
      },
      "source": [
        "customer_trans._get_numeric_data().columns"
      ],
      "execution_count": 0,
      "outputs": [
        {
          "output_type": "execute_result",
          "data": {
            "text/plain": [
              "Index(['customer_id', 'item_id', 'quantity', 'selling_price', 'other_discount',\n",
              "       'coupon_discount'],\n",
              "      dtype='object')"
            ]
          },
          "metadata": {
            "tags": []
          },
          "execution_count": 44
        }
      ]
    },
    {
      "cell_type": "code",
      "metadata": {
        "id": "lgwmq-E8uqJJ",
        "colab_type": "code",
        "outputId": "beb8c23e-f0cc-4ac5-88b2-1ee46668cd8b",
        "colab": {
          "base_uri": "https://localhost:8080/",
          "height": 139
        }
      },
      "source": [
        "for col in customer_trans.columns:\n",
        "  print('{} column has {} uniuqe value  '.format(col, customer_trans[col].nunique()))"
      ],
      "execution_count": 0,
      "outputs": [
        {
          "output_type": "stream",
          "text": [
            "date column has 549 uniuqe value  \n",
            "customer_id column has 1582 uniuqe value  \n",
            "item_id column has 74063 uniuqe value  \n",
            "quantity column has 9252 uniuqe value  \n",
            "selling_price column has 4923 uniuqe value  \n",
            "other_discount column has 1418 uniuqe value  \n",
            "coupon_discount column has 232 uniuqe value  \n"
          ],
          "name": "stdout"
        }
      ]
    },
    {
      "cell_type": "code",
      "metadata": {
        "id": "orw-p_nWlPd2",
        "colab_type": "code",
        "colab": {}
      },
      "source": [
        "def effective(i):\n",
        "  a=customer_trans['selling_price'][i] + customer_trans['other_discount'][i] + customer_trans['coupon_discount'][i]\n",
        "  return round(a,2)\n",
        "\n",
        "customer_trans['effective_price']=[effective(i) for i  in range(len(customer_trans))]\n"
      ],
      "execution_count": 0,
      "outputs": []
    },
    {
      "cell_type": "code",
      "metadata": {
        "id": "gOxXDnTolPJA",
        "colab_type": "code",
        "outputId": "2c9cb9d3-8fde-4a63-da6f-dbe6a72e2a47",
        "colab": {
          "base_uri": "https://localhost:8080/",
          "height": 206
        }
      },
      "source": [
        "customer_trans.head()"
      ],
      "execution_count": 0,
      "outputs": [
        {
          "output_type": "execute_result",
          "data": {
            "text/html": [
              "<div>\n",
              "<style scoped>\n",
              "    .dataframe tbody tr th:only-of-type {\n",
              "        vertical-align: middle;\n",
              "    }\n",
              "\n",
              "    .dataframe tbody tr th {\n",
              "        vertical-align: top;\n",
              "    }\n",
              "\n",
              "    .dataframe thead th {\n",
              "        text-align: right;\n",
              "    }\n",
              "</style>\n",
              "<table border=\"1\" class=\"dataframe\">\n",
              "  <thead>\n",
              "    <tr style=\"text-align: right;\">\n",
              "      <th></th>\n",
              "      <th>date</th>\n",
              "      <th>customer_id</th>\n",
              "      <th>item_id</th>\n",
              "      <th>quantity</th>\n",
              "      <th>selling_price</th>\n",
              "      <th>other_discount</th>\n",
              "      <th>coupon_discount</th>\n",
              "      <th>effective_price</th>\n",
              "    </tr>\n",
              "  </thead>\n",
              "  <tbody>\n",
              "    <tr>\n",
              "      <th>0</th>\n",
              "      <td>2012-01-02</td>\n",
              "      <td>1501</td>\n",
              "      <td>26830</td>\n",
              "      <td>1</td>\n",
              "      <td>35.26</td>\n",
              "      <td>-10.69</td>\n",
              "      <td>0.0</td>\n",
              "      <td>24.57</td>\n",
              "    </tr>\n",
              "    <tr>\n",
              "      <th>1</th>\n",
              "      <td>2012-01-02</td>\n",
              "      <td>1501</td>\n",
              "      <td>54253</td>\n",
              "      <td>1</td>\n",
              "      <td>53.43</td>\n",
              "      <td>-13.89</td>\n",
              "      <td>0.0</td>\n",
              "      <td>39.54</td>\n",
              "    </tr>\n",
              "    <tr>\n",
              "      <th>2</th>\n",
              "      <td>2012-01-02</td>\n",
              "      <td>1501</td>\n",
              "      <td>31962</td>\n",
              "      <td>1</td>\n",
              "      <td>106.50</td>\n",
              "      <td>-14.25</td>\n",
              "      <td>0.0</td>\n",
              "      <td>92.25</td>\n",
              "    </tr>\n",
              "    <tr>\n",
              "      <th>3</th>\n",
              "      <td>2012-01-02</td>\n",
              "      <td>1501</td>\n",
              "      <td>33647</td>\n",
              "      <td>1</td>\n",
              "      <td>67.32</td>\n",
              "      <td>0.00</td>\n",
              "      <td>0.0</td>\n",
              "      <td>67.32</td>\n",
              "    </tr>\n",
              "    <tr>\n",
              "      <th>4</th>\n",
              "      <td>2012-01-02</td>\n",
              "      <td>1501</td>\n",
              "      <td>48199</td>\n",
              "      <td>1</td>\n",
              "      <td>71.24</td>\n",
              "      <td>-28.14</td>\n",
              "      <td>0.0</td>\n",
              "      <td>43.10</td>\n",
              "    </tr>\n",
              "  </tbody>\n",
              "</table>\n",
              "</div>"
            ],
            "text/plain": [
              "        date  customer_id  ...  coupon_discount  effective_price\n",
              "0 2012-01-02         1501  ...              0.0            24.57\n",
              "1 2012-01-02         1501  ...              0.0            39.54\n",
              "2 2012-01-02         1501  ...              0.0            92.25\n",
              "3 2012-01-02         1501  ...              0.0            67.32\n",
              "4 2012-01-02         1501  ...              0.0            43.10\n",
              "\n",
              "[5 rows x 8 columns]"
            ]
          },
          "metadata": {
            "tags": []
          },
          "execution_count": 52
        }
      ]
    },
    {
      "cell_type": "code",
      "metadata": {
        "id": "C3AdWL37wYy6",
        "colab_type": "code",
        "colab": {}
      },
      "source": [
        "customer_trans['date_day']=[i.day for i in customer_trans.date]\n",
        "customer_trans['date_day']=customer_trans['date_day'].astype('object')\n",
        "\n",
        "customer_trans['date_month']=[i.month for i in customer_trans.date]\n",
        "customer_trans['date_month']=customer_trans['date_month'].astype('object')\n",
        "\n",
        "customer_trans['date_year']=[i.year for i in customer_trans.date]\n",
        "customer_trans['date_year']=customer_trans['date_year'].astype('object')"
      ],
      "execution_count": 0,
      "outputs": []
    },
    {
      "cell_type": "code",
      "metadata": {
        "id": "W7KqiugiyOgT",
        "colab_type": "code",
        "colab": {}
      },
      "source": [
        "customer_trans['day_of_week']=[i.dayofweek for i in customer_trans.date]\n",
        "customer_trans['week_of_year']=[i.week for i in customer_trans.date]\n",
        "customer_trans['weekend']=[1 if i>=5 else 0 for i in customer_trans.day_of_week]"
      ],
      "execution_count": 0,
      "outputs": []
    },
    {
      "cell_type": "code",
      "metadata": {
        "id": "vpKfH3y82OOa",
        "colab_type": "code",
        "colab": {}
      },
      "source": [
        "helper=[]\n",
        "for i in customer_trans.date_day:\n",
        "  if i>10 and i<20:\n",
        "    helper.append('mid')\n",
        "    \n",
        "  elif i>20:\n",
        "    helper.append('end')\n",
        "    \n",
        "  else:\n",
        "    helper.append('start')\n",
        "\n",
        "\n",
        "customer_trans['month_info']=helper"
      ],
      "execution_count": 0,
      "outputs": []
    },
    {
      "cell_type": "code",
      "metadata": {
        "id": "l3pqR3-02OTL",
        "colab_type": "code",
        "colab": {}
      },
      "source": [
        "customer_trans.drop('date', axis=1, inplace=True)"
      ],
      "execution_count": 0,
      "outputs": []
    },
    {
      "cell_type": "code",
      "metadata": {
        "id": "TZ7FKNzA2OYA",
        "colab_type": "code",
        "colab": {}
      },
      "source": [
        "customer_trans['weekend']=customer_trans['weekend'].astype('object')\n",
        "customer_trans['week_of_year']=customer_trans['week_of_year'].astype('object')\n",
        "customer_trans['day_of_week']=customer_trans['day_of_week'].astype('object')\n",
        "customer_trans['month_info']=customer_trans['month_info'].astype('object')"
      ],
      "execution_count": 0,
      "outputs": []
    },
    {
      "cell_type": "code",
      "metadata": {
        "id": "9ssdYm3jyqjB",
        "colab_type": "code",
        "colab": {}
      },
      "source": [
        "customer_trans['Total_discount_percent']=[int(100-(customer_trans['effective_price'][i]/customer_trans['selling_price'][i])*100) for i in range(len(customer_trans))]"
      ],
      "execution_count": 0,
      "outputs": []
    },
    {
      "cell_type": "code",
      "metadata": {
        "id": "ST1i_ZwO0mn6",
        "colab_type": "code",
        "outputId": "b971e590-f44e-43cf-c4f9-e321758a5b1e",
        "colab": {
          "base_uri": "https://localhost:8080/",
          "height": 226
        }
      },
      "source": [
        "customer_trans.head()"
      ],
      "execution_count": 0,
      "outputs": [
        {
          "output_type": "execute_result",
          "data": {
            "text/html": [
              "<div>\n",
              "<style scoped>\n",
              "    .dataframe tbody tr th:only-of-type {\n",
              "        vertical-align: middle;\n",
              "    }\n",
              "\n",
              "    .dataframe tbody tr th {\n",
              "        vertical-align: top;\n",
              "    }\n",
              "\n",
              "    .dataframe thead th {\n",
              "        text-align: right;\n",
              "    }\n",
              "</style>\n",
              "<table border=\"1\" class=\"dataframe\">\n",
              "  <thead>\n",
              "    <tr style=\"text-align: right;\">\n",
              "      <th></th>\n",
              "      <th>customer_id</th>\n",
              "      <th>item_id</th>\n",
              "      <th>quantity</th>\n",
              "      <th>selling_price</th>\n",
              "      <th>other_discount</th>\n",
              "      <th>coupon_discount</th>\n",
              "      <th>effective_price</th>\n",
              "      <th>date_day</th>\n",
              "      <th>date_month</th>\n",
              "      <th>date_year</th>\n",
              "      <th>day_of_week</th>\n",
              "      <th>week_of_year</th>\n",
              "      <th>weekend</th>\n",
              "      <th>month_info</th>\n",
              "      <th>Total_discount_percent</th>\n",
              "    </tr>\n",
              "  </thead>\n",
              "  <tbody>\n",
              "    <tr>\n",
              "      <th>0</th>\n",
              "      <td>1501</td>\n",
              "      <td>26830</td>\n",
              "      <td>1</td>\n",
              "      <td>35.26</td>\n",
              "      <td>-10.69</td>\n",
              "      <td>0.0</td>\n",
              "      <td>24.57</td>\n",
              "      <td>2</td>\n",
              "      <td>1</td>\n",
              "      <td>2012</td>\n",
              "      <td>0</td>\n",
              "      <td>1</td>\n",
              "      <td>0</td>\n",
              "      <td>start</td>\n",
              "      <td>30</td>\n",
              "    </tr>\n",
              "    <tr>\n",
              "      <th>1</th>\n",
              "      <td>1501</td>\n",
              "      <td>54253</td>\n",
              "      <td>1</td>\n",
              "      <td>53.43</td>\n",
              "      <td>-13.89</td>\n",
              "      <td>0.0</td>\n",
              "      <td>39.54</td>\n",
              "      <td>2</td>\n",
              "      <td>1</td>\n",
              "      <td>2012</td>\n",
              "      <td>0</td>\n",
              "      <td>1</td>\n",
              "      <td>0</td>\n",
              "      <td>start</td>\n",
              "      <td>25</td>\n",
              "    </tr>\n",
              "    <tr>\n",
              "      <th>2</th>\n",
              "      <td>1501</td>\n",
              "      <td>31962</td>\n",
              "      <td>1</td>\n",
              "      <td>106.50</td>\n",
              "      <td>-14.25</td>\n",
              "      <td>0.0</td>\n",
              "      <td>92.25</td>\n",
              "      <td>2</td>\n",
              "      <td>1</td>\n",
              "      <td>2012</td>\n",
              "      <td>0</td>\n",
              "      <td>1</td>\n",
              "      <td>0</td>\n",
              "      <td>start</td>\n",
              "      <td>13</td>\n",
              "    </tr>\n",
              "    <tr>\n",
              "      <th>3</th>\n",
              "      <td>1501</td>\n",
              "      <td>33647</td>\n",
              "      <td>1</td>\n",
              "      <td>67.32</td>\n",
              "      <td>0.00</td>\n",
              "      <td>0.0</td>\n",
              "      <td>67.32</td>\n",
              "      <td>2</td>\n",
              "      <td>1</td>\n",
              "      <td>2012</td>\n",
              "      <td>0</td>\n",
              "      <td>1</td>\n",
              "      <td>0</td>\n",
              "      <td>start</td>\n",
              "      <td>0</td>\n",
              "    </tr>\n",
              "    <tr>\n",
              "      <th>4</th>\n",
              "      <td>1501</td>\n",
              "      <td>48199</td>\n",
              "      <td>1</td>\n",
              "      <td>71.24</td>\n",
              "      <td>-28.14</td>\n",
              "      <td>0.0</td>\n",
              "      <td>43.10</td>\n",
              "      <td>2</td>\n",
              "      <td>1</td>\n",
              "      <td>2012</td>\n",
              "      <td>0</td>\n",
              "      <td>1</td>\n",
              "      <td>0</td>\n",
              "      <td>start</td>\n",
              "      <td>39</td>\n",
              "    </tr>\n",
              "  </tbody>\n",
              "</table>\n",
              "</div>"
            ],
            "text/plain": [
              "   customer_id  item_id  quantity  ...  weekend  month_info  Total_discount_percent\n",
              "0         1501    26830         1  ...        0       start                      30\n",
              "1         1501    54253         1  ...        0       start                      25\n",
              "2         1501    31962         1  ...        0       start                      13\n",
              "3         1501    33647         1  ...        0       start                       0\n",
              "4         1501    48199         1  ...        0       start                      39\n",
              "\n",
              "[5 rows x 15 columns]"
            ]
          },
          "metadata": {
            "tags": []
          },
          "execution_count": 68
        }
      ]
    },
    {
      "cell_type": "code",
      "metadata": {
        "id": "iKiEStST1ZaQ",
        "colab_type": "code",
        "colab": {}
      },
      "source": [
        "new_customer_trans=customer_trans[customer_trans['Total_discount_percent']<100]\n",
        "new_customer_trans.reset_index(drop=True, inplace=True)"
      ],
      "execution_count": 0,
      "outputs": []
    },
    {
      "cell_type": "code",
      "metadata": {
        "id": "yIH-D04k3V98",
        "colab_type": "code",
        "outputId": "d324df3e-123a-48bc-bda4-a0332ce2eb02",
        "colab": {
          "base_uri": "https://localhost:8080/",
          "height": 226
        }
      },
      "source": [
        "new_customer_trans.head()"
      ],
      "execution_count": 0,
      "outputs": [
        {
          "output_type": "execute_result",
          "data": {
            "text/html": [
              "<div>\n",
              "<style scoped>\n",
              "    .dataframe tbody tr th:only-of-type {\n",
              "        vertical-align: middle;\n",
              "    }\n",
              "\n",
              "    .dataframe tbody tr th {\n",
              "        vertical-align: top;\n",
              "    }\n",
              "\n",
              "    .dataframe thead th {\n",
              "        text-align: right;\n",
              "    }\n",
              "</style>\n",
              "<table border=\"1\" class=\"dataframe\">\n",
              "  <thead>\n",
              "    <tr style=\"text-align: right;\">\n",
              "      <th></th>\n",
              "      <th>customer_id</th>\n",
              "      <th>item_id</th>\n",
              "      <th>quantity</th>\n",
              "      <th>selling_price</th>\n",
              "      <th>other_discount</th>\n",
              "      <th>coupon_discount</th>\n",
              "      <th>effective_price</th>\n",
              "      <th>date_day</th>\n",
              "      <th>date_month</th>\n",
              "      <th>date_year</th>\n",
              "      <th>day_of_week</th>\n",
              "      <th>week_of_year</th>\n",
              "      <th>weekend</th>\n",
              "      <th>month_info</th>\n",
              "      <th>Total_discount_percent</th>\n",
              "    </tr>\n",
              "  </thead>\n",
              "  <tbody>\n",
              "    <tr>\n",
              "      <th>0</th>\n",
              "      <td>1501</td>\n",
              "      <td>26830</td>\n",
              "      <td>1</td>\n",
              "      <td>35.26</td>\n",
              "      <td>-10.69</td>\n",
              "      <td>0.0</td>\n",
              "      <td>24.57</td>\n",
              "      <td>2</td>\n",
              "      <td>1</td>\n",
              "      <td>2012</td>\n",
              "      <td>0</td>\n",
              "      <td>1</td>\n",
              "      <td>0</td>\n",
              "      <td>start</td>\n",
              "      <td>30</td>\n",
              "    </tr>\n",
              "    <tr>\n",
              "      <th>1</th>\n",
              "      <td>1501</td>\n",
              "      <td>54253</td>\n",
              "      <td>1</td>\n",
              "      <td>53.43</td>\n",
              "      <td>-13.89</td>\n",
              "      <td>0.0</td>\n",
              "      <td>39.54</td>\n",
              "      <td>2</td>\n",
              "      <td>1</td>\n",
              "      <td>2012</td>\n",
              "      <td>0</td>\n",
              "      <td>1</td>\n",
              "      <td>0</td>\n",
              "      <td>start</td>\n",
              "      <td>25</td>\n",
              "    </tr>\n",
              "    <tr>\n",
              "      <th>2</th>\n",
              "      <td>1501</td>\n",
              "      <td>31962</td>\n",
              "      <td>1</td>\n",
              "      <td>106.50</td>\n",
              "      <td>-14.25</td>\n",
              "      <td>0.0</td>\n",
              "      <td>92.25</td>\n",
              "      <td>2</td>\n",
              "      <td>1</td>\n",
              "      <td>2012</td>\n",
              "      <td>0</td>\n",
              "      <td>1</td>\n",
              "      <td>0</td>\n",
              "      <td>start</td>\n",
              "      <td>13</td>\n",
              "    </tr>\n",
              "    <tr>\n",
              "      <th>3</th>\n",
              "      <td>1501</td>\n",
              "      <td>33647</td>\n",
              "      <td>1</td>\n",
              "      <td>67.32</td>\n",
              "      <td>0.00</td>\n",
              "      <td>0.0</td>\n",
              "      <td>67.32</td>\n",
              "      <td>2</td>\n",
              "      <td>1</td>\n",
              "      <td>2012</td>\n",
              "      <td>0</td>\n",
              "      <td>1</td>\n",
              "      <td>0</td>\n",
              "      <td>start</td>\n",
              "      <td>0</td>\n",
              "    </tr>\n",
              "    <tr>\n",
              "      <th>4</th>\n",
              "      <td>1501</td>\n",
              "      <td>48199</td>\n",
              "      <td>1</td>\n",
              "      <td>71.24</td>\n",
              "      <td>-28.14</td>\n",
              "      <td>0.0</td>\n",
              "      <td>43.10</td>\n",
              "      <td>2</td>\n",
              "      <td>1</td>\n",
              "      <td>2012</td>\n",
              "      <td>0</td>\n",
              "      <td>1</td>\n",
              "      <td>0</td>\n",
              "      <td>start</td>\n",
              "      <td>39</td>\n",
              "    </tr>\n",
              "  </tbody>\n",
              "</table>\n",
              "</div>"
            ],
            "text/plain": [
              "   customer_id  item_id  quantity  ...  weekend  month_info  Total_discount_percent\n",
              "0         1501    26830         1  ...        0       start                      30\n",
              "1         1501    54253         1  ...        0       start                      25\n",
              "2         1501    31962         1  ...        0       start                      13\n",
              "3         1501    33647         1  ...        0       start                       0\n",
              "4         1501    48199         1  ...        0       start                      39\n",
              "\n",
              "[5 rows x 15 columns]"
            ]
          },
          "metadata": {
            "tags": []
          },
          "execution_count": 84
        }
      ]
    },
    {
      "cell_type": "code",
      "metadata": {
        "id": "F3m51V-m4He8",
        "colab_type": "code",
        "outputId": "2eaaaf11-6e32-4875-d512-8632747e4c7d",
        "colab": {
          "base_uri": "https://localhost:8080/",
          "height": 225
        }
      },
      "source": [
        "def myround(x, base=5):\n",
        "    return base * round(x/base)\n",
        "\n",
        "new_customer_trans['Total_discount_percent']=[myround(i) for i in new_customer_trans.Total_discount_percent]\n",
        "new_customer_trans['Total_discount_percent']=new_customer_trans['Total_discount_percent'].astype('object')"
      ],
      "execution_count": 0,
      "outputs": [
        {
          "output_type": "stream",
          "text": [
            "/usr/local/lib/python3.6/dist-packages/ipykernel_launcher.py:4: SettingWithCopyWarning: \n",
            "A value is trying to be set on a copy of a slice from a DataFrame.\n",
            "Try using .loc[row_indexer,col_indexer] = value instead\n",
            "\n",
            "See the caveats in the documentation: http://pandas.pydata.org/pandas-docs/stable/indexing.html#indexing-view-versus-copy\n",
            "  after removing the cwd from sys.path.\n",
            "/usr/local/lib/python3.6/dist-packages/ipykernel_launcher.py:5: SettingWithCopyWarning: \n",
            "A value is trying to be set on a copy of a slice from a DataFrame.\n",
            "Try using .loc[row_indexer,col_indexer] = value instead\n",
            "\n",
            "See the caveats in the documentation: http://pandas.pydata.org/pandas-docs/stable/indexing.html#indexing-view-versus-copy\n",
            "  \"\"\"\n"
          ],
          "name": "stderr"
        }
      ]
    },
    {
      "cell_type": "code",
      "metadata": {
        "id": "mxQ_c-rA6_Bc",
        "colab_type": "code",
        "outputId": "4680b9cd-a894-469f-b6a1-3a338afde45f",
        "colab": {
          "base_uri": "https://localhost:8080/",
          "height": 121
        }
      },
      "source": [
        "new_customer_trans['Total_coupon_percent']=[int(100-(new_customer_trans['coupon_discount'][i]/new_customer_trans['selling_price'][i])*100) for i in range(len(new_customer_trans))]"
      ],
      "execution_count": 0,
      "outputs": [
        {
          "output_type": "stream",
          "text": [
            "/usr/local/lib/python3.6/dist-packages/ipykernel_launcher.py:1: SettingWithCopyWarning: \n",
            "A value is trying to be set on a copy of a slice from a DataFrame.\n",
            "Try using .loc[row_indexer,col_indexer] = value instead\n",
            "\n",
            "See the caveats in the documentation: http://pandas.pydata.org/pandas-docs/stable/indexing.html#indexing-view-versus-copy\n",
            "  \"\"\"Entry point for launching an IPython kernel.\n"
          ],
          "name": "stderr"
        }
      ]
    },
    {
      "cell_type": "code",
      "metadata": {
        "id": "Ez24PkfL7qSH",
        "colab_type": "code",
        "outputId": "e6e2d019-68ed-42b6-95c4-3d10cb0b3bdd",
        "colab": {
          "base_uri": "https://localhost:8080/",
          "height": 121
        }
      },
      "source": [
        "new_customer_trans['Total_coupon_percent']=new_customer_trans['Total_coupon_percent'].astype('object')"
      ],
      "execution_count": 0,
      "outputs": [
        {
          "output_type": "stream",
          "text": [
            "/usr/local/lib/python3.6/dist-packages/ipykernel_launcher.py:1: SettingWithCopyWarning: \n",
            "A value is trying to be set on a copy of a slice from a DataFrame.\n",
            "Try using .loc[row_indexer,col_indexer] = value instead\n",
            "\n",
            "See the caveats in the documentation: http://pandas.pydata.org/pandas-docs/stable/indexing.html#indexing-view-versus-copy\n",
            "  \"\"\"Entry point for launching an IPython kernel.\n"
          ],
          "name": "stderr"
        }
      ]
    },
    {
      "cell_type": "code",
      "metadata": {
        "id": "KJn-i_EM4ebj",
        "colab_type": "code",
        "outputId": "fa9f7bfe-d4df-467c-99ea-0ae319df43f8",
        "colab": {
          "base_uri": "https://localhost:8080/",
          "height": 295
        }
      },
      "source": [
        "for col in new_customer_trans.columns:\n",
        "  print('{} column has {} uniuqe value  '.format(col, new_customer_trans[col].nunique()))"
      ],
      "execution_count": 0,
      "outputs": [
        {
          "output_type": "stream",
          "text": [
            "customer_id column has 1582 uniuqe value  \n",
            "item_id column has 72674 uniuqe value  \n",
            "quantity column has 9252 uniuqe value  \n",
            "selling_price column has 4917 uniuqe value  \n",
            "other_discount column has 1111 uniuqe value  \n",
            "coupon_discount column has 148 uniuqe value  \n",
            "effective_price column has 7416 uniuqe value  \n",
            "date_day column has 31 uniuqe value  \n",
            "date_month column has 12 uniuqe value  \n",
            "date_year column has 2 uniuqe value  \n",
            "day_of_week column has 7 uniuqe value  \n",
            "week_of_year column has 52 uniuqe value  \n",
            "weekend column has 2 uniuqe value  \n",
            "month_info column has 3 uniuqe value  \n",
            "Total_discount_percent column has 21 uniuqe value  \n",
            "Total_coupon_percent column has 96 uniuqe value  \n"
          ],
          "name": "stdout"
        }
      ]
    },
    {
      "cell_type": "code",
      "metadata": {
        "id": "Bp6om_zG6l6P",
        "colab_type": "code",
        "outputId": "a5b4fbf3-65a3-4a7b-fe5c-60f1336b09ce",
        "colab": {
          "base_uri": "https://localhost:8080/",
          "height": 69
        }
      },
      "source": [
        "new_customer_trans._get_numeric_data().columns"
      ],
      "execution_count": 0,
      "outputs": [
        {
          "output_type": "execute_result",
          "data": {
            "text/plain": [
              "Index(['customer_id', 'item_id', 'quantity', 'selling_price', 'other_discount',\n",
              "       'coupon_discount', 'effective_price'],\n",
              "      dtype='object')"
            ]
          },
          "metadata": {
            "tags": []
          },
          "execution_count": 93
        }
      ]
    },
    {
      "cell_type": "code",
      "metadata": {
        "id": "hanwJqjR4EB-",
        "colab_type": "code",
        "colab": {}
      },
      "source": [
        "import os \n",
        "os.chdir('/content/gdrive/My Drive/')"
      ],
      "execution_count": 0,
      "outputs": []
    },
    {
      "cell_type": "code",
      "metadata": {
        "id": "ca3jFk1B4D_U",
        "colab_type": "code",
        "colab": {}
      },
      "source": [
        "new_customer_trans.to_csv('new_customer_trans.csv', index=False)"
      ],
      "execution_count": 0,
      "outputs": []
    },
    {
      "cell_type": "code",
      "metadata": {
        "id": "zYIy_zEk4D64",
        "colab_type": "code",
        "outputId": "ff8e4fed-e264-4740-a151-249fa22bf4cb",
        "colab": {
          "base_uri": "https://localhost:8080/",
          "height": 206
        }
      },
      "source": [
        "campaign=pd.read_csv('/content/gdrive/My Drive/train_AUpWtIz/train_AUpWtIz/campaign_data.csv')\n",
        "campaign.head()"
      ],
      "execution_count": 0,
      "outputs": [
        {
          "output_type": "execute_result",
          "data": {
            "text/html": [
              "<div>\n",
              "<style scoped>\n",
              "    .dataframe tbody tr th:only-of-type {\n",
              "        vertical-align: middle;\n",
              "    }\n",
              "\n",
              "    .dataframe tbody tr th {\n",
              "        vertical-align: top;\n",
              "    }\n",
              "\n",
              "    .dataframe thead th {\n",
              "        text-align: right;\n",
              "    }\n",
              "</style>\n",
              "<table border=\"1\" class=\"dataframe\">\n",
              "  <thead>\n",
              "    <tr style=\"text-align: right;\">\n",
              "      <th></th>\n",
              "      <th>campaign_id</th>\n",
              "      <th>campaign_type</th>\n",
              "      <th>start_date</th>\n",
              "      <th>end_date</th>\n",
              "    </tr>\n",
              "  </thead>\n",
              "  <tbody>\n",
              "    <tr>\n",
              "      <th>0</th>\n",
              "      <td>24</td>\n",
              "      <td>Y</td>\n",
              "      <td>21/10/13</td>\n",
              "      <td>20/12/13</td>\n",
              "    </tr>\n",
              "    <tr>\n",
              "      <th>1</th>\n",
              "      <td>25</td>\n",
              "      <td>Y</td>\n",
              "      <td>21/10/13</td>\n",
              "      <td>22/11/13</td>\n",
              "    </tr>\n",
              "    <tr>\n",
              "      <th>2</th>\n",
              "      <td>20</td>\n",
              "      <td>Y</td>\n",
              "      <td>07/09/13</td>\n",
              "      <td>16/11/13</td>\n",
              "    </tr>\n",
              "    <tr>\n",
              "      <th>3</th>\n",
              "      <td>23</td>\n",
              "      <td>Y</td>\n",
              "      <td>08/10/13</td>\n",
              "      <td>15/11/13</td>\n",
              "    </tr>\n",
              "    <tr>\n",
              "      <th>4</th>\n",
              "      <td>21</td>\n",
              "      <td>Y</td>\n",
              "      <td>16/09/13</td>\n",
              "      <td>18/10/13</td>\n",
              "    </tr>\n",
              "  </tbody>\n",
              "</table>\n",
              "</div>"
            ],
            "text/plain": [
              "   campaign_id campaign_type start_date  end_date\n",
              "0           24             Y   21/10/13  20/12/13\n",
              "1           25             Y   21/10/13  22/11/13\n",
              "2           20             Y   07/09/13  16/11/13\n",
              "3           23             Y   08/10/13  15/11/13\n",
              "4           21             Y   16/09/13  18/10/13"
            ]
          },
          "metadata": {
            "tags": []
          },
          "execution_count": 97
        }
      ]
    },
    {
      "cell_type": "code",
      "metadata": {
        "id": "eDyQhIcq5Y_r",
        "colab_type": "code",
        "colab": {}
      },
      "source": [
        "campaign['start_date']=pd.to_datetime(campaign['start_date'], infer_datetime_format=False)\n",
        "campaign['end_date']=pd.to_datetime(campaign['end_date'], infer_datetime_format=False)"
      ],
      "execution_count": 0,
      "outputs": []
    },
    {
      "cell_type": "code",
      "metadata": {
        "id": "wjX84ue15Y8p",
        "colab_type": "code",
        "colab": {}
      },
      "source": [
        "campaign['start_day']=[i.day for i in campaign.start_date]\n",
        "campaign['start_day']=campaign['start_day'].astype('object')\n",
        "\n",
        "campaign['start_month']=[i.month for i in campaign.start_date]\n",
        "campaign['start_month']=campaign['start_month'].astype('object')\n",
        "\n",
        "campaign['start_year']=[i.year for i in campaign.start_date]\n",
        "campaign['start_year']=campaign['start_year'].astype('object')\n",
        "\n",
        "\n",
        "campaign['end_day']=[i.day for i in campaign.end_date]\n",
        "campaign['end_day']=campaign['end_day'].astype('object')\n",
        "\n",
        "campaign['end_month']=[i.month for i in campaign.end_date]\n",
        "campaign['end_month']=campaign['end_month'].astype('object')\n",
        "\n",
        "campaign['end_year']=[i.year for i in campaign.end_date]\n",
        "campaign['end_year']=campaign['end_year'].astype('object')"
      ],
      "execution_count": 0,
      "outputs": []
    },
    {
      "cell_type": "code",
      "metadata": {
        "id": "UhKSl81n5Y5q",
        "colab_type": "code",
        "colab": {}
      },
      "source": [
        "campaign['start_day_of_week']=[i.dayofweek for i in campaign.start_date]\n",
        "campaign['start_week_of_year']=[i.week for i in campaign.start_date]\n",
        "campaign['start_weekend']=[1 if i>=5 else 0 for i in campaign.start_day_of_week]\n",
        "\n",
        "\n",
        "campaign['end_day_of_week']=[i.dayofweek for i in campaign.end_date]\n",
        "campaign['end_week_of_year']=[i.week for i in campaign.end_date]\n",
        "campaign['end_weekend']=[1 if i>=5 else 0 for i in campaign.end_day_of_week]"
      ],
      "execution_count": 0,
      "outputs": []
    },
    {
      "cell_type": "code",
      "metadata": {
        "id": "P5vewDZY5Y22",
        "colab_type": "code",
        "colab": {}
      },
      "source": [
        "helper_2=[]\n",
        "for i in campaign.start_day:\n",
        "  if i>10 and i<20:\n",
        "    helper_2.append('mid')\n",
        "    \n",
        "  elif i>20:\n",
        "    helper_2.append('end')\n",
        "    \n",
        "  else:\n",
        "    helper_2.append('start')\n",
        "\n",
        "\n",
        "campaign['start_month_info']=helper_2\n",
        "\n",
        "\n",
        "helper_3=[]\n",
        "for i in campaign.end_day:\n",
        "  if i>10 and i<20:\n",
        "    helper_3.append('mid')\n",
        "    \n",
        "  elif i>20:\n",
        "    helper_3.append('end')\n",
        "    \n",
        "  else:\n",
        "    helper_3.append('start')\n",
        "\n",
        "\n",
        "campaign['end_month_info']=helper_3\n"
      ],
      "execution_count": 0,
      "outputs": []
    },
    {
      "cell_type": "code",
      "metadata": {
        "id": "_1qeIC215Y0E",
        "colab_type": "code",
        "colab": {}
      },
      "source": [
        "helper_4=[]\n",
        "\n",
        "for i in range(len(campaign)):\n",
        "  a=campaign['end_date'][i]-campaign['start_date'][i]\n",
        "  helper_4.append(a.days)\n",
        "  \n",
        "  \n",
        "campaign['campaign_len']=helper_4"
      ],
      "execution_count": 0,
      "outputs": []
    },
    {
      "cell_type": "code",
      "metadata": {
        "id": "VMIcEFuc5YxX",
        "colab_type": "code",
        "outputId": "f92665db-62e4-434d-fced-06999193108e",
        "colab": {
          "base_uri": "https://localhost:8080/",
          "height": 226
        }
      },
      "source": [
        "campaign.head()"
      ],
      "execution_count": 0,
      "outputs": [
        {
          "output_type": "execute_result",
          "data": {
            "text/html": [
              "<div>\n",
              "<style scoped>\n",
              "    .dataframe tbody tr th:only-of-type {\n",
              "        vertical-align: middle;\n",
              "    }\n",
              "\n",
              "    .dataframe tbody tr th {\n",
              "        vertical-align: top;\n",
              "    }\n",
              "\n",
              "    .dataframe thead th {\n",
              "        text-align: right;\n",
              "    }\n",
              "</style>\n",
              "<table border=\"1\" class=\"dataframe\">\n",
              "  <thead>\n",
              "    <tr style=\"text-align: right;\">\n",
              "      <th></th>\n",
              "      <th>campaign_id</th>\n",
              "      <th>campaign_type</th>\n",
              "      <th>start_date</th>\n",
              "      <th>end_date</th>\n",
              "      <th>start_day</th>\n",
              "      <th>start_month</th>\n",
              "      <th>start_year</th>\n",
              "      <th>end_day</th>\n",
              "      <th>end_month</th>\n",
              "      <th>end_year</th>\n",
              "      <th>start_day_of_week</th>\n",
              "      <th>start_week_of_year</th>\n",
              "      <th>start_weekend</th>\n",
              "      <th>end_day_of_week</th>\n",
              "      <th>end_week_of_year</th>\n",
              "      <th>end_weekend</th>\n",
              "      <th>start_month_info</th>\n",
              "      <th>end_month_info</th>\n",
              "      <th>campaign_len</th>\n",
              "    </tr>\n",
              "  </thead>\n",
              "  <tbody>\n",
              "    <tr>\n",
              "      <th>0</th>\n",
              "      <td>24</td>\n",
              "      <td>Y</td>\n",
              "      <td>2013-10-21</td>\n",
              "      <td>2013-12-20</td>\n",
              "      <td>21</td>\n",
              "      <td>10</td>\n",
              "      <td>2013</td>\n",
              "      <td>20</td>\n",
              "      <td>12</td>\n",
              "      <td>2013</td>\n",
              "      <td>0</td>\n",
              "      <td>43</td>\n",
              "      <td>0</td>\n",
              "      <td>4</td>\n",
              "      <td>51</td>\n",
              "      <td>0</td>\n",
              "      <td>end</td>\n",
              "      <td>start</td>\n",
              "      <td>60</td>\n",
              "    </tr>\n",
              "    <tr>\n",
              "      <th>1</th>\n",
              "      <td>25</td>\n",
              "      <td>Y</td>\n",
              "      <td>2013-10-21</td>\n",
              "      <td>2013-11-22</td>\n",
              "      <td>21</td>\n",
              "      <td>10</td>\n",
              "      <td>2013</td>\n",
              "      <td>22</td>\n",
              "      <td>11</td>\n",
              "      <td>2013</td>\n",
              "      <td>0</td>\n",
              "      <td>43</td>\n",
              "      <td>0</td>\n",
              "      <td>4</td>\n",
              "      <td>47</td>\n",
              "      <td>0</td>\n",
              "      <td>end</td>\n",
              "      <td>end</td>\n",
              "      <td>32</td>\n",
              "    </tr>\n",
              "    <tr>\n",
              "      <th>2</th>\n",
              "      <td>20</td>\n",
              "      <td>Y</td>\n",
              "      <td>2013-07-09</td>\n",
              "      <td>2013-11-16</td>\n",
              "      <td>9</td>\n",
              "      <td>7</td>\n",
              "      <td>2013</td>\n",
              "      <td>16</td>\n",
              "      <td>11</td>\n",
              "      <td>2013</td>\n",
              "      <td>1</td>\n",
              "      <td>28</td>\n",
              "      <td>0</td>\n",
              "      <td>5</td>\n",
              "      <td>46</td>\n",
              "      <td>1</td>\n",
              "      <td>start</td>\n",
              "      <td>mid</td>\n",
              "      <td>130</td>\n",
              "    </tr>\n",
              "    <tr>\n",
              "      <th>3</th>\n",
              "      <td>23</td>\n",
              "      <td>Y</td>\n",
              "      <td>2013-08-10</td>\n",
              "      <td>2013-11-15</td>\n",
              "      <td>10</td>\n",
              "      <td>8</td>\n",
              "      <td>2013</td>\n",
              "      <td>15</td>\n",
              "      <td>11</td>\n",
              "      <td>2013</td>\n",
              "      <td>5</td>\n",
              "      <td>32</td>\n",
              "      <td>1</td>\n",
              "      <td>4</td>\n",
              "      <td>46</td>\n",
              "      <td>0</td>\n",
              "      <td>start</td>\n",
              "      <td>mid</td>\n",
              "      <td>97</td>\n",
              "    </tr>\n",
              "    <tr>\n",
              "      <th>4</th>\n",
              "      <td>21</td>\n",
              "      <td>Y</td>\n",
              "      <td>2013-09-16</td>\n",
              "      <td>2013-10-18</td>\n",
              "      <td>16</td>\n",
              "      <td>9</td>\n",
              "      <td>2013</td>\n",
              "      <td>18</td>\n",
              "      <td>10</td>\n",
              "      <td>2013</td>\n",
              "      <td>0</td>\n",
              "      <td>38</td>\n",
              "      <td>0</td>\n",
              "      <td>4</td>\n",
              "      <td>42</td>\n",
              "      <td>0</td>\n",
              "      <td>mid</td>\n",
              "      <td>mid</td>\n",
              "      <td>32</td>\n",
              "    </tr>\n",
              "  </tbody>\n",
              "</table>\n",
              "</div>"
            ],
            "text/plain": [
              "   campaign_id campaign_type  ... end_month_info campaign_len\n",
              "0           24             Y  ...          start           60\n",
              "1           25             Y  ...            end           32\n",
              "2           20             Y  ...            mid          130\n",
              "3           23             Y  ...            mid           97\n",
              "4           21             Y  ...            mid           32\n",
              "\n",
              "[5 rows x 19 columns]"
            ]
          },
          "metadata": {
            "tags": []
          },
          "execution_count": 103
        }
      ]
    },
    {
      "cell_type": "code",
      "metadata": {
        "id": "49O5H4ua5YuO",
        "colab_type": "code",
        "colab": {}
      },
      "source": [
        "campaign['start_day_of_week']=campaign['start_day_of_week'].astype('object')\n",
        "campaign['start_week_of_year']=campaign['start_week_of_year'].astype('object')\n",
        "campaign['start_weekend']=campaign['start_weekend'].astype('object')\n",
        "\n",
        "\n",
        "campaign['end_day_of_week']=campaign['end_day_of_week'].astype('object')\n",
        "campaign['end_week_of_year']=campaign['end_week_of_year'].astype('object')\n",
        "campaign['end_weekend']=campaign['end_weekend'].astype('object')"
      ],
      "execution_count": 0,
      "outputs": []
    },
    {
      "cell_type": "code",
      "metadata": {
        "id": "2uktQN2K-RDE",
        "colab_type": "code",
        "colab": {}
      },
      "source": [
        "campaign.drop(['start_date', 'end_date'], axis=1, inplace=True)"
      ],
      "execution_count": 0,
      "outputs": []
    },
    {
      "cell_type": "code",
      "metadata": {
        "id": "zqHPAEPV_u1M",
        "colab_type": "code",
        "outputId": "7477e598-574e-448d-fe60-aa6349831338",
        "colab": {
          "base_uri": "https://localhost:8080/",
          "height": 34
        }
      },
      "source": [
        "campaign._get_numeric_data().columns"
      ],
      "execution_count": 0,
      "outputs": [
        {
          "output_type": "execute_result",
          "data": {
            "text/plain": [
              "Index(['campaign_id', 'campaign_len'], dtype='object')"
            ]
          },
          "metadata": {
            "tags": []
          },
          "execution_count": 107
        }
      ]
    },
    {
      "cell_type": "code",
      "metadata": {
        "id": "rHTbO_mW-d-q",
        "colab_type": "code",
        "colab": {}
      },
      "source": [
        "# campaign.to_csv('feature_added_campaign.csv', index=False)"
      ],
      "execution_count": 0,
      "outputs": []
    },
    {
      "cell_type": "code",
      "metadata": {
        "id": "oCkbRs495Yp3",
        "colab_type": "code",
        "outputId": "77d13242-1b63-4052-ffe7-ff8351ba6b8a",
        "colab": {
          "base_uri": "https://localhost:8080/",
          "height": 206
        }
      },
      "source": [
        "\n",
        "customer_demo._get_numeric_data().columns\n",
        "customer_demo.head()"
      ],
      "execution_count": 0,
      "outputs": [
        {
          "output_type": "execute_result",
          "data": {
            "text/html": [
              "<div>\n",
              "<style scoped>\n",
              "    .dataframe tbody tr th:only-of-type {\n",
              "        vertical-align: middle;\n",
              "    }\n",
              "\n",
              "    .dataframe tbody tr th {\n",
              "        vertical-align: top;\n",
              "    }\n",
              "\n",
              "    .dataframe thead th {\n",
              "        text-align: right;\n",
              "    }\n",
              "</style>\n",
              "<table border=\"1\" class=\"dataframe\">\n",
              "  <thead>\n",
              "    <tr style=\"text-align: right;\">\n",
              "      <th></th>\n",
              "      <th>customer_id</th>\n",
              "      <th>age_range</th>\n",
              "      <th>marital_status</th>\n",
              "      <th>rented</th>\n",
              "      <th>family_size</th>\n",
              "      <th>no_of_children</th>\n",
              "      <th>income_bracket</th>\n",
              "      <th>age</th>\n",
              "    </tr>\n",
              "  </thead>\n",
              "  <tbody>\n",
              "    <tr>\n",
              "      <th>0</th>\n",
              "      <td>1</td>\n",
              "      <td>70+</td>\n",
              "      <td>Married</td>\n",
              "      <td>0</td>\n",
              "      <td>2</td>\n",
              "      <td>0</td>\n",
              "      <td>4</td>\n",
              "      <td>86</td>\n",
              "    </tr>\n",
              "    <tr>\n",
              "      <th>1</th>\n",
              "      <td>6</td>\n",
              "      <td>46-55</td>\n",
              "      <td>Married</td>\n",
              "      <td>0</td>\n",
              "      <td>2</td>\n",
              "      <td>0</td>\n",
              "      <td>5</td>\n",
              "      <td>49</td>\n",
              "    </tr>\n",
              "    <tr>\n",
              "      <th>2</th>\n",
              "      <td>7</td>\n",
              "      <td>26-35</td>\n",
              "      <td>Married</td>\n",
              "      <td>0</td>\n",
              "      <td>3</td>\n",
              "      <td>1</td>\n",
              "      <td>3</td>\n",
              "      <td>30</td>\n",
              "    </tr>\n",
              "    <tr>\n",
              "      <th>3</th>\n",
              "      <td>8</td>\n",
              "      <td>26-35</td>\n",
              "      <td>Married</td>\n",
              "      <td>0</td>\n",
              "      <td>4</td>\n",
              "      <td>2</td>\n",
              "      <td>6</td>\n",
              "      <td>29</td>\n",
              "    </tr>\n",
              "    <tr>\n",
              "      <th>4</th>\n",
              "      <td>10</td>\n",
              "      <td>46-55</td>\n",
              "      <td>Single</td>\n",
              "      <td>0</td>\n",
              "      <td>1</td>\n",
              "      <td>0</td>\n",
              "      <td>5</td>\n",
              "      <td>50</td>\n",
              "    </tr>\n",
              "  </tbody>\n",
              "</table>\n",
              "</div>"
            ],
            "text/plain": [
              "   customer_id age_range marital_status  ... no_of_children income_bracket age\n",
              "0            1       70+        Married  ...              0              4  86\n",
              "1            6     46-55        Married  ...              0              5  49\n",
              "2            7     26-35        Married  ...              1              3  30\n",
              "3            8     26-35        Married  ...              2              6  29\n",
              "4           10     46-55         Single  ...              0              5  50\n",
              "\n",
              "[5 rows x 8 columns]"
            ]
          },
          "metadata": {
            "tags": []
          },
          "execution_count": 111
        }
      ]
    },
    {
      "cell_type": "code",
      "metadata": {
        "id": "a06LbN4i5YnG",
        "colab_type": "code",
        "outputId": "69286e6f-dafd-4dd2-bbe9-1a3c05572028",
        "colab": {
          "base_uri": "https://localhost:8080/",
          "height": 416
        }
      },
      "source": [
        "new_trans=new_customer_trans.merge(customer_demo,how='left', on= 'customer_id')\n",
        "\n",
        "\n",
        "for col in new_trans.columns:\n",
        "  print('{} column has {} uniuqe value and type is {}  '.format(col, new_trans[col].nunique(), new_trans[col].dtype))\n"
      ],
      "execution_count": 0,
      "outputs": [
        {
          "output_type": "stream",
          "text": [
            "customer_id column has 1582 uniuqe value and type is int64  \n",
            "item_id column has 72674 uniuqe value and type is int64  \n",
            "quantity column has 9252 uniuqe value and type is int64  \n",
            "selling_price column has 4917 uniuqe value and type is float64  \n",
            "other_discount column has 1111 uniuqe value and type is float64  \n",
            "coupon_discount column has 148 uniuqe value and type is float64  \n",
            "effective_price column has 7416 uniuqe value and type is float64  \n",
            "date_day column has 31 uniuqe value and type is object  \n",
            "date_month column has 12 uniuqe value and type is object  \n",
            "date_year column has 2 uniuqe value and type is object  \n",
            "day_of_week column has 7 uniuqe value and type is object  \n",
            "week_of_year column has 52 uniuqe value and type is object  \n",
            "weekend column has 2 uniuqe value and type is object  \n",
            "month_info column has 3 uniuqe value and type is object  \n",
            "Total_discount_percent column has 21 uniuqe value and type is object  \n",
            "Total_coupon_percent column has 96 uniuqe value and type is object  \n",
            "age_range column has 6 uniuqe value and type is object  \n",
            "marital_status column has 2 uniuqe value and type is object  \n",
            "rented column has 2 uniuqe value and type is object  \n",
            "family_size column has 5 uniuqe value and type is object  \n",
            "no_of_children column has 4 uniuqe value and type is object  \n",
            "income_bracket column has 12 uniuqe value and type is object  \n",
            "age column has 67 uniuqe value and type is float64  \n"
          ],
          "name": "stdout"
        }
      ]
    },
    {
      "cell_type": "code",
      "metadata": {
        "id": "XjjoxYSA5Yj4",
        "colab_type": "code",
        "outputId": "afe650e4-ac8e-4c4e-d207-b80f378a55b4",
        "colab": {
          "base_uri": "https://localhost:8080/",
          "height": 206
        }
      },
      "source": [
        "item_data=pd.read_csv('/content/gdrive/My Drive/train_AUpWtIz/train_AUpWtIz/item_data.csv')\n",
        "item_data.head()"
      ],
      "execution_count": 0,
      "outputs": [
        {
          "output_type": "execute_result",
          "data": {
            "text/html": [
              "<div>\n",
              "<style scoped>\n",
              "    .dataframe tbody tr th:only-of-type {\n",
              "        vertical-align: middle;\n",
              "    }\n",
              "\n",
              "    .dataframe tbody tr th {\n",
              "        vertical-align: top;\n",
              "    }\n",
              "\n",
              "    .dataframe thead th {\n",
              "        text-align: right;\n",
              "    }\n",
              "</style>\n",
              "<table border=\"1\" class=\"dataframe\">\n",
              "  <thead>\n",
              "    <tr style=\"text-align: right;\">\n",
              "      <th></th>\n",
              "      <th>item_id</th>\n",
              "      <th>brand</th>\n",
              "      <th>brand_type</th>\n",
              "      <th>category</th>\n",
              "    </tr>\n",
              "  </thead>\n",
              "  <tbody>\n",
              "    <tr>\n",
              "      <th>0</th>\n",
              "      <td>1</td>\n",
              "      <td>1</td>\n",
              "      <td>Established</td>\n",
              "      <td>Grocery</td>\n",
              "    </tr>\n",
              "    <tr>\n",
              "      <th>1</th>\n",
              "      <td>2</td>\n",
              "      <td>1</td>\n",
              "      <td>Established</td>\n",
              "      <td>Miscellaneous</td>\n",
              "    </tr>\n",
              "    <tr>\n",
              "      <th>2</th>\n",
              "      <td>3</td>\n",
              "      <td>56</td>\n",
              "      <td>Local</td>\n",
              "      <td>Bakery</td>\n",
              "    </tr>\n",
              "    <tr>\n",
              "      <th>3</th>\n",
              "      <td>4</td>\n",
              "      <td>56</td>\n",
              "      <td>Local</td>\n",
              "      <td>Grocery</td>\n",
              "    </tr>\n",
              "    <tr>\n",
              "      <th>4</th>\n",
              "      <td>5</td>\n",
              "      <td>56</td>\n",
              "      <td>Local</td>\n",
              "      <td>Grocery</td>\n",
              "    </tr>\n",
              "  </tbody>\n",
              "</table>\n",
              "</div>"
            ],
            "text/plain": [
              "   item_id  brand   brand_type       category\n",
              "0        1      1  Established        Grocery\n",
              "1        2      1  Established  Miscellaneous\n",
              "2        3     56        Local         Bakery\n",
              "3        4     56        Local        Grocery\n",
              "4        5     56        Local        Grocery"
            ]
          },
          "metadata": {
            "tags": []
          },
          "execution_count": 117
        }
      ]
    },
    {
      "cell_type": "code",
      "metadata": {
        "id": "X0IlO5-OBKpZ",
        "colab_type": "code",
        "colab": {}
      },
      "source": [
        "item_data.drop('brand', axis=1, inplace=True)"
      ],
      "execution_count": 0,
      "outputs": []
    },
    {
      "cell_type": "code",
      "metadata": {
        "id": "fAU-bdZvMOHD",
        "colab_type": "code",
        "outputId": "35ead7c6-0b70-40d4-a442-4963e46bac4a",
        "colab": {
          "base_uri": "https://localhost:8080/",
          "height": 34
        }
      },
      "source": [
        "item_trans_demo=new_trans.merge(item_data, on='item_id', how='left')\n",
        "print(len(item_trans_demo))"
      ],
      "execution_count": 0,
      "outputs": [
        {
          "output_type": "stream",
          "text": [
            "1290587\n"
          ],
          "name": "stdout"
        }
      ]
    },
    {
      "cell_type": "code",
      "metadata": {
        "id": "y31NjAs-MON6",
        "colab_type": "code",
        "colab": {}
      },
      "source": [
        "# item_trans_demo.to_csv('item_tran_demo.csv', index=False)"
      ],
      "execution_count": 0,
      "outputs": []
    },
    {
      "cell_type": "code",
      "metadata": {
        "id": "BaJVt0lzPf-h",
        "colab_type": "code",
        "outputId": "bcca538d-5760-48f6-c42b-947513ae9356",
        "colab": {
          "base_uri": "https://localhost:8080/",
          "height": 834
        }
      },
      "source": [
        "info=pd.DataFrame()\n",
        "info['columns']=item_trans_demo.columns\n",
        "info['unique']=[item_trans_demo[col].nunique() for col in item_trans_demo.columns]\n",
        "info['type']=[item_trans_demo[col].dtype for col in item_trans_demo.columns]\n",
        "info.sort_values(by='unique')"
      ],
      "execution_count": 0,
      "outputs": [
        {
          "output_type": "execute_result",
          "data": {
            "text/html": [
              "<div>\n",
              "<style scoped>\n",
              "    .dataframe tbody tr th:only-of-type {\n",
              "        vertical-align: middle;\n",
              "    }\n",
              "\n",
              "    .dataframe tbody tr th {\n",
              "        vertical-align: top;\n",
              "    }\n",
              "\n",
              "    .dataframe thead th {\n",
              "        text-align: right;\n",
              "    }\n",
              "</style>\n",
              "<table border=\"1\" class=\"dataframe\">\n",
              "  <thead>\n",
              "    <tr style=\"text-align: right;\">\n",
              "      <th></th>\n",
              "      <th>columns</th>\n",
              "      <th>unique</th>\n",
              "      <th>type</th>\n",
              "    </tr>\n",
              "  </thead>\n",
              "  <tbody>\n",
              "    <tr>\n",
              "      <th>12</th>\n",
              "      <td>weekend</td>\n",
              "      <td>2</td>\n",
              "      <td>object</td>\n",
              "    </tr>\n",
              "    <tr>\n",
              "      <th>18</th>\n",
              "      <td>rented</td>\n",
              "      <td>2</td>\n",
              "      <td>object</td>\n",
              "    </tr>\n",
              "    <tr>\n",
              "      <th>17</th>\n",
              "      <td>marital_status</td>\n",
              "      <td>2</td>\n",
              "      <td>object</td>\n",
              "    </tr>\n",
              "    <tr>\n",
              "      <th>9</th>\n",
              "      <td>date_year</td>\n",
              "      <td>2</td>\n",
              "      <td>object</td>\n",
              "    </tr>\n",
              "    <tr>\n",
              "      <th>23</th>\n",
              "      <td>brand_type</td>\n",
              "      <td>2</td>\n",
              "      <td>object</td>\n",
              "    </tr>\n",
              "    <tr>\n",
              "      <th>13</th>\n",
              "      <td>month_info</td>\n",
              "      <td>3</td>\n",
              "      <td>object</td>\n",
              "    </tr>\n",
              "    <tr>\n",
              "      <th>20</th>\n",
              "      <td>no_of_children</td>\n",
              "      <td>4</td>\n",
              "      <td>object</td>\n",
              "    </tr>\n",
              "    <tr>\n",
              "      <th>19</th>\n",
              "      <td>family_size</td>\n",
              "      <td>5</td>\n",
              "      <td>object</td>\n",
              "    </tr>\n",
              "    <tr>\n",
              "      <th>16</th>\n",
              "      <td>age_range</td>\n",
              "      <td>6</td>\n",
              "      <td>object</td>\n",
              "    </tr>\n",
              "    <tr>\n",
              "      <th>10</th>\n",
              "      <td>day_of_week</td>\n",
              "      <td>7</td>\n",
              "      <td>object</td>\n",
              "    </tr>\n",
              "    <tr>\n",
              "      <th>21</th>\n",
              "      <td>income_bracket</td>\n",
              "      <td>12</td>\n",
              "      <td>object</td>\n",
              "    </tr>\n",
              "    <tr>\n",
              "      <th>8</th>\n",
              "      <td>date_month</td>\n",
              "      <td>12</td>\n",
              "      <td>object</td>\n",
              "    </tr>\n",
              "    <tr>\n",
              "      <th>24</th>\n",
              "      <td>category</td>\n",
              "      <td>19</td>\n",
              "      <td>object</td>\n",
              "    </tr>\n",
              "    <tr>\n",
              "      <th>14</th>\n",
              "      <td>Total_discount_percent</td>\n",
              "      <td>21</td>\n",
              "      <td>object</td>\n",
              "    </tr>\n",
              "    <tr>\n",
              "      <th>7</th>\n",
              "      <td>date_day</td>\n",
              "      <td>31</td>\n",
              "      <td>object</td>\n",
              "    </tr>\n",
              "    <tr>\n",
              "      <th>11</th>\n",
              "      <td>week_of_year</td>\n",
              "      <td>52</td>\n",
              "      <td>object</td>\n",
              "    </tr>\n",
              "    <tr>\n",
              "      <th>22</th>\n",
              "      <td>age</td>\n",
              "      <td>67</td>\n",
              "      <td>float64</td>\n",
              "    </tr>\n",
              "    <tr>\n",
              "      <th>15</th>\n",
              "      <td>Total_coupon_percent</td>\n",
              "      <td>96</td>\n",
              "      <td>object</td>\n",
              "    </tr>\n",
              "    <tr>\n",
              "      <th>5</th>\n",
              "      <td>coupon_discount</td>\n",
              "      <td>148</td>\n",
              "      <td>float64</td>\n",
              "    </tr>\n",
              "    <tr>\n",
              "      <th>4</th>\n",
              "      <td>other_discount</td>\n",
              "      <td>1111</td>\n",
              "      <td>float64</td>\n",
              "    </tr>\n",
              "    <tr>\n",
              "      <th>0</th>\n",
              "      <td>customer_id</td>\n",
              "      <td>1582</td>\n",
              "      <td>int64</td>\n",
              "    </tr>\n",
              "    <tr>\n",
              "      <th>3</th>\n",
              "      <td>selling_price</td>\n",
              "      <td>4917</td>\n",
              "      <td>float64</td>\n",
              "    </tr>\n",
              "    <tr>\n",
              "      <th>6</th>\n",
              "      <td>effective_price</td>\n",
              "      <td>7416</td>\n",
              "      <td>float64</td>\n",
              "    </tr>\n",
              "    <tr>\n",
              "      <th>2</th>\n",
              "      <td>quantity</td>\n",
              "      <td>9252</td>\n",
              "      <td>int64</td>\n",
              "    </tr>\n",
              "    <tr>\n",
              "      <th>1</th>\n",
              "      <td>item_id</td>\n",
              "      <td>72674</td>\n",
              "      <td>int64</td>\n",
              "    </tr>\n",
              "  </tbody>\n",
              "</table>\n",
              "</div>"
            ],
            "text/plain": [
              "                   columns  unique     type\n",
              "12                 weekend       2   object\n",
              "18                  rented       2   object\n",
              "17          marital_status       2   object\n",
              "9                date_year       2   object\n",
              "23              brand_type       2   object\n",
              "13              month_info       3   object\n",
              "20          no_of_children       4   object\n",
              "19             family_size       5   object\n",
              "16               age_range       6   object\n",
              "10             day_of_week       7   object\n",
              "21          income_bracket      12   object\n",
              "8               date_month      12   object\n",
              "24                category      19   object\n",
              "14  Total_discount_percent      21   object\n",
              "7                 date_day      31   object\n",
              "11            week_of_year      52   object\n",
              "22                     age      67  float64\n",
              "15    Total_coupon_percent      96   object\n",
              "5          coupon_discount     148  float64\n",
              "4           other_discount    1111  float64\n",
              "0              customer_id    1582    int64\n",
              "3            selling_price    4917  float64\n",
              "6          effective_price    7416  float64\n",
              "2                 quantity    9252    int64\n",
              "1                  item_id   72674    int64"
            ]
          },
          "metadata": {
            "tags": []
          },
          "execution_count": 121
        }
      ]
    },
    {
      "cell_type": "code",
      "metadata": {
        "id": "UAyZdVzaRvY9",
        "colab_type": "code",
        "outputId": "c3937088-fa41-4a72-eb5e-bbd638228bca",
        "colab": {
          "base_uri": "https://localhost:8080/",
          "height": 469
        }
      },
      "source": [
        "item_trans_demo.isnull().sum()"
      ],
      "execution_count": 0,
      "outputs": [
        {
          "output_type": "execute_result",
          "data": {
            "text/plain": [
              "customer_id                    0\n",
              "item_id                        0\n",
              "quantity                       0\n",
              "selling_price                  0\n",
              "other_discount                 0\n",
              "coupon_discount                0\n",
              "effective_price                0\n",
              "date_day                       0\n",
              "date_month                     0\n",
              "date_year                      0\n",
              "day_of_week                    0\n",
              "week_of_year                   0\n",
              "weekend                        0\n",
              "month_info                     0\n",
              "Total_discount_percent         0\n",
              "Total_coupon_percent           0\n",
              "age_range                 518919\n",
              "marital_status            518919\n",
              "rented                    518919\n",
              "family_size               518919\n",
              "no_of_children            518919\n",
              "income_bracket            518919\n",
              "age                       518919\n",
              "brand_type                     0\n",
              "category                       0\n",
              "dtype: int64"
            ]
          },
          "metadata": {
            "tags": []
          },
          "execution_count": 122
        }
      ]
    },
    {
      "cell_type": "code",
      "metadata": {
        "id": "Xokk9BeXaJj7",
        "colab_type": "code",
        "colab": {}
      },
      "source": [
        "prev, cat_cols =one_hot_encoder(item_trans_demo, nan_as_category= False)"
      ],
      "execution_count": 0,
      "outputs": []
    },
    {
      "cell_type": "code",
      "metadata": {
        "id": "dMiF8dmMRvl4",
        "colab_type": "code",
        "colab": {}
      },
      "source": [
        "test=pd.read_csv('/content/gdrive/My Drive/train_AUpWtIz/train_AUpWtIz/test_QyjYwdj.csv')\n",
        "trai=pd.read_csv('/content/gdrive/My Drive/train_AUpWtIz/train_AUpWtIz/train.csv')\n",
        "\n",
        "train=pd.concat([test, trai], sort=False)\n",
        "train.reset_index(drop=True, inplace=True)\n"
      ],
      "execution_count": 0,
      "outputs": []
    },
    {
      "cell_type": "code",
      "metadata": {
        "id": "JSRclkmV3ngx",
        "colab_type": "code",
        "colab": {}
      },
      "source": [
        "nc, nc_cols=one_hot_encoder(campaign,nan_as_category=False)\n"
      ],
      "execution_count": 0,
      "outputs": []
    },
    {
      "cell_type": "code",
      "metadata": {
        "id": "EjPtoMXZ4Xcx",
        "colab_type": "code",
        "colab": {}
      },
      "source": [
        "train_nc=train.merge(nc, on='campaign_id', how='left')"
      ],
      "execution_count": 0,
      "outputs": []
    },
    {
      "cell_type": "code",
      "metadata": {
        "id": "gpxa_4AJ53s8",
        "colab_type": "code",
        "outputId": "6c53fbb5-55db-4ad0-e378-cb143f61821e",
        "colab": {
          "base_uri": "https://localhost:8080/",
          "height": 156
        }
      },
      "source": [
        "num_cols=set(prev.columns)-(set(cat_cols))\n",
        "num_cols"
      ],
      "execution_count": 0,
      "outputs": [
        {
          "output_type": "execute_result",
          "data": {
            "text/plain": [
              "{'age',\n",
              " 'coupon_discount',\n",
              " 'customer_id',\n",
              " 'effective_price',\n",
              " 'item_id',\n",
              " 'other_discount',\n",
              " 'quantity',\n",
              " 'selling_price'}"
            ]
          },
          "metadata": {
            "tags": []
          },
          "execution_count": 127
        }
      ]
    },
    {
      "cell_type": "code",
      "metadata": {
        "id": "6Wf7P9Qo78pJ",
        "colab_type": "code",
        "colab": {}
      },
      "source": [
        "aggregations={'age':['max', 'mean', 'sum', 'var'],\n",
        "'item_id':['max', 'mean', 'sum', 'var'],\n",
        "'other_discount':['max', 'mean', 'sum', 'var'],\n",
        "'effective_price':['max', 'mean', 'sum', 'var'],\n",
        "'coupon_discount':['max', 'mean', 'sum', 'var'],\n",
        "'quantity':['max', 'mean', 'sum', 'var'],\n",
        "'selling_price':['max', 'mean', 'sum', 'var']}"
      ],
      "execution_count": 0,
      "outputs": []
    },
    {
      "cell_type": "code",
      "metadata": {
        "id": "hWQk68gT8ozM",
        "colab_type": "code",
        "colab": {}
      },
      "source": [
        "for cat in cat_cols:\n",
        "  aggregations[cat] = ['mean','count']"
      ],
      "execution_count": 0,
      "outputs": []
    },
    {
      "cell_type": "code",
      "metadata": {
        "id": "WEtsKYvV8waE",
        "colab_type": "code",
        "colab": {}
      },
      "source": [
        "ins_agg = prev.groupby('customer_id').agg(aggregations)\n",
        "\n",
        "\n",
        "ins_agg.to_csv('secondmerge.csv', index=False)"
      ],
      "execution_count": 0,
      "outputs": []
    },
    {
      "cell_type": "code",
      "metadata": {
        "id": "51Bdzjzn4rbN",
        "colab_type": "code",
        "outputId": "00da5e9c-601e-4606-f33c-a6680a34ba24",
        "colab": {
          "base_uri": "https://localhost:8080/",
          "height": 89
        }
      },
      "source": [
        "final_test=train_nc.merge(ins_agg, on='customer_id', how='left')\n",
        "len(final_test.columns)"
      ],
      "execution_count": 0,
      "outputs": [
        {
          "output_type": "stream",
          "text": [
            "/usr/local/lib/python3.6/dist-packages/pandas/core/reshape/merge.py:522: UserWarning: merging between different levels can give an unintended result (1 levels on the left, 2 on the right)\n",
            "  warnings.warn(msg, UserWarning)\n"
          ],
          "name": "stderr"
        },
        {
          "output_type": "execute_result",
          "data": {
            "text/plain": [
              "716"
            ]
          },
          "metadata": {
            "tags": []
          },
          "execution_count": 135
        }
      ]
    },
    {
      "cell_type": "code",
      "metadata": {
        "id": "AalF3bMqGqvr",
        "colab_type": "code",
        "colab": {}
      },
      "source": [
        "os.chdir('/content/gdrive/My Drive/')"
      ],
      "execution_count": 0,
      "outputs": []
    },
    {
      "cell_type": "code",
      "metadata": {
        "id": "-4tkYtKb5go2",
        "colab_type": "code",
        "colab": {}
      },
      "source": [
        "final_test.to_csv('final_csv_save.csv', index=False)"
      ],
      "execution_count": 0,
      "outputs": []
    },
    {
      "cell_type": "code",
      "metadata": {
        "id": "YH7YHkriIsWN",
        "colab_type": "code",
        "colab": {}
      },
      "source": [
        "import numpy as np\n",
        "import pandas as pd\n",
        "import gc\n",
        "import time\n",
        "from contextlib import contextmanager\n",
        "from lightgbm import LGBMClassifier\n",
        "from sklearn.metrics import roc_auc_score, roc_curve\n",
        "from sklearn.model_selection import KFold, StratifiedKFold\n",
        "import matplotlib.pyplot as plt\n",
        "import seaborn as sns\n",
        "import warnings\n",
        "warnings.simplefilter(action='ignore', category=FutureWarning)\n"
      ],
      "execution_count": 0,
      "outputs": []
    },
    {
      "cell_type": "code",
      "metadata": {
        "id": "fvmqnX9YIsqh",
        "colab_type": "code",
        "colab": {}
      },
      "source": [
        "import pandas as pd\n",
        "import numpy as np\n",
        "\n",
        "train=pd.read_csv('/content/gdrive/My Drive/null_False_final.csv')\n"
      ],
      "execution_count": 0,
      "outputs": []
    },
    {
      "cell_type": "code",
      "metadata": {
        "id": "FCCoBvPqIsn6",
        "colab_type": "code",
        "colab": {}
      },
      "source": [
        "train_df = train[train['redemption_status'].notnull()]\n",
        "test_df = train[train['redemption_status'].isnull()]"
      ],
      "execution_count": 0,
      "outputs": []
    },
    {
      "cell_type": "code",
      "metadata": {
        "id": "KdxvlYUIIslE",
        "colab_type": "code",
        "colab": {}
      },
      "source": [
        "X=train_df.drop('redemption_status', axis=1)\n",
        "y=train_df['redemption_status']"
      ],
      "execution_count": 0,
      "outputs": []
    },
    {
      "cell_type": "code",
      "metadata": {
        "id": "aa9CeFaIIsh7",
        "colab_type": "code",
        "colab": {}
      },
      "source": [
        "### Hyperparameter optimization \n",
        "import warnings\n",
        "import time\n",
        "warnings.filterwarnings(\"ignore\")\n",
        "import lightgbm as lgb\n",
        "from bayes_opt import BayesianOptimization\n",
        "from sklearn.metrics import roc_auc_score\n",
        "\n"
      ],
      "execution_count": 0,
      "outputs": []
    },
    {
      "cell_type": "code",
      "metadata": {
        "id": "QRYkd3UuIsex",
        "colab_type": "code",
        "colab": {}
      },
      "source": [
        "def bayes_parameter_opt_lgb(X, y, init_round=15, opt_round=25, n_folds=5, random_seed=6, n_estimators=10000, learning_rate=0.05, output_process=False):\n",
        "    # prepare data\n",
        "    train_data = lgb.Dataset(data=X, label=y, free_raw_data=False)\n",
        "    # parameters\n",
        "    def lgb_eval(num_leaves, feature_fraction, bagging_fraction, max_depth, lambda_l1, lambda_l2, min_split_gain, min_child_weight):\n",
        "        params = {'application':'binary','num_iterations': n_estimators, 'learning_rate':learning_rate, 'early_stopping_round':100, 'metric':'auc'}\n",
        "        params[\"num_leaves\"] = int(round(num_leaves))\n",
        "        params['feature_fraction'] = max(min(feature_fraction, 1), 0)\n",
        "        params['bagging_fraction'] = max(min(bagging_fraction, 1), 0)\n",
        "        params['max_depth'] = int(round(max_depth))\n",
        "        params['lambda_l1'] = max(lambda_l1, 0)\n",
        "        params['lambda_l2'] = max(lambda_l2, 0)\n",
        "        params['min_split_gain'] = min_split_gain\n",
        "        params['min_child_weight'] = min_child_weight\n",
        "        cv_result = lgb.cv(params, train_data, nfold=n_folds, seed=random_seed, stratified=True, verbose_eval =200, metrics=['auc'])\n",
        "        return max(cv_result['auc-mean'])\n",
        "    # range \n",
        "    lgbBO = BayesianOptimization(lgb_eval, {'num_leaves': (24, 45),\n",
        "                                            'feature_fraction': (0.1, 0.9),\n",
        "                                            'bagging_fraction': (0.8, 1),\n",
        "                                            'max_depth': (5, 8.99),\n",
        "                                            'lambda_l1': (0, 5),\n",
        "                                            'lambda_l2': (0, 3),\n",
        "                                            'min_split_gain': (0.001, 0.1),\n",
        "                                            'min_child_weight': (5, 50)}, random_state=0)\n",
        "    # optimize\n",
        "    lgbBO.maximize(init_points=init_round, n_iter=opt_round)\n",
        "    \n",
        "    # output optimization process\n",
        "    if output_process==True: \n",
        "      lgbBO.points_to_csv(\"bayes_opt_result.csv\")\n",
        "    \n",
        "    # return best parameters\n",
        "    return lgbBO.max\n",
        "\n",
        "opt_params = bayes_parameter_opt_lgb(X, y, init_round=5, opt_round=10, n_folds=5, random_seed=6, n_estimators=100, learning_rate=0.005)"
      ],
      "execution_count": 0,
      "outputs": []
    },
    {
      "cell_type": "code",
      "metadata": {
        "id": "wOBlvJwjJApu",
        "colab_type": "code",
        "colab": {}
      },
      "source": [
        "params={'bagging_fraction': 0.8014441163511778,\n",
        "        'feature_fraction': 0.887446475418968,\n",
        "        'n_estimators':2000,\n",
        "         'lambda_l1': 0.0006907693477425925,\n",
        "         'lambda_l2': 0.00932080129051771,\n",
        "         'max_depth': 7,\n",
        "         'min_child_weight': 5.095015806849857,\n",
        "         'min_split_gain': 0.03327364999635955,\n",
        "         'num_leaves': 42}"
      ],
      "execution_count": 0,
      "outputs": []
    },
    {
      "cell_type": "code",
      "metadata": {
        "id": "NglHeIIdJA2a",
        "colab_type": "code",
        "colab": {}
      },
      "source": [
        "import gc\n",
        "def kfold_lightgbm(df, num_folds, stratified = False, debug= False):\n",
        "    # Divide in training/validation and test data\n",
        "    train_df = train[train['redemption_status'].notnull()]\n",
        "    test_df = train[train['redemption_status'].isnull()]\n",
        "    print(\"Starting LightGBM. Train shape: {}, test shape: {}\".format(train_df.shape, test_df.shape))\n",
        "  \n",
        "    gc.collect()\n",
        "    # Cross validation model\n",
        "    if stratified:\n",
        "        folds = StratifiedKFold(n_splits= num_folds, shuffle=True, random_state=1001)\n",
        "    else:\n",
        "        folds = KFold(n_splits= num_folds, shuffle=True, random_state=1001)\n",
        "    # Create arrays and dataframes to store results\n",
        "    oof_preds = np.zeros(train_df.shape[0])\n",
        "    sub_preds = np.zeros(test_df.shape[0])\n",
        "    feature_importance_df = pd.DataFrame()\n",
        "    feats = [f for f in train_df.columns if f not in ['redemption_status','customer_id','coupon_id','item_id', 'campaign_id','index', 'id']]\n",
        "    \n",
        "    for n_fold, (train_idx, valid_idx) in enumerate(folds.split(train_df[feats], train_df['redemption_status'])):\n",
        "        train_x, train_y = train_df[feats].iloc[train_idx], train_df['redemption_status'].iloc[train_idx]\n",
        "        valid_x, valid_y = train_df[feats].iloc[valid_idx], train_df['redemption_status'].iloc[valid_idx]\n",
        "\n",
        "#   # LightGBM parameters found by Bayesian optimization\n",
        "\n",
        "        \n",
        "        clf =LGBMClassifier(**params)\n",
        "        \n",
        "        \n",
        "        clf.fit(train_x, train_y, eval_set=[(train_x, train_y), (valid_x, valid_y)], \n",
        "            eval_metric= 'auc', verbose= 200, early_stopping_rounds= 500)\n",
        "\n",
        "        oof_preds[valid_idx] = clf.predict_proba(valid_x, num_iteration=clf.best_iteration_)[:, 1]\n",
        "        sub_preds += clf.predict_proba(test_df[feats], num_iteration=clf.best_iteration_)[:, 1] / folds.n_splits\n",
        "\n",
        "        fold_importance_df = pd.DataFrame()\n",
        "        fold_importance_df[\"feature\"] = feats\n",
        "        fold_importance_df[\"importance\"] = clf.feature_importances_\n",
        "        fold_importance_df[\"fold\"] = n_fold + 1\n",
        "        feature_importance_df = pd.concat([feature_importance_df, fold_importance_df], axis=0)\n",
        "        print('Fold %2d AUC : %.6f' % (n_fold + 1, roc_auc_score(valid_y, oof_preds[valid_idx])))\n",
        "        del clf, train_x, train_y, valid_x, valid_y\n",
        "        gc.collect()\n",
        "\n",
        "    print('Full AUC score %.6f' % roc_auc_score(train_df['redemption_status'], oof_preds))\n",
        "    # Write submission file and plot feature importance\n",
        "    if save:\n",
        "        test_df['redemption_status'] = sub_preds\n",
        "        test_df[['id', 'redemption_status']].to_csv('AMD5final_submission.csv', index= False)\n",
        "    display_importances(feature_importance_df)\n",
        "    return feature_importance_df, test_df[['id', 'redemption_status']]\n",
        "\n",
        "# Display/plot feature importance\n",
        "def display_importances(feature_importance_df_):\n",
        "    cols = feature_importance_df_[[\"feature\", \"importance\"]].groupby(\"feature\").mean().sort_values(by=\"importance\", ascending=False)[:40].index\n",
        "    best_features = feature_importance_df_.loc[feature_importance_df_.feature.isin(cols)]\n",
        "    plt.figure(figsize=(8, 10))\n",
        "    sns.barplot(x=\"importance\", y=\"feature\", data=best_features.sort_values(by=\"importance\", ascending=False))\n",
        "    plt.title('LightGBM Features (avg over folds)')\n",
        "    plt.tight_layout()\n",
        "    plt.savefig('lgbm_importances01.png')"
      ],
      "execution_count": 0,
      "outputs": []
    },
    {
      "cell_type": "code",
      "metadata": {
        "id": "itI1-9eYJA7R",
        "colab_type": "code",
        "colab": {}
      },
      "source": [
        "a, b=kfold_lightgbm(train, 20, stratified = True, save= True)"
      ],
      "execution_count": 0,
      "outputs": []
    }
  ]
}